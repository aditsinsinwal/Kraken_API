{
  "nbformat": 4,
  "nbformat_minor": 0,
  "metadata": {
    "colab": {
      "provenance": []
    },
    "kernelspec": {
      "name": "python3",
      "display_name": "Python 3"
    },
    "language_info": {
      "name": "python"
    }
  },
  "cells": [
    {
      "cell_type": "code",
      "execution_count": 1,
      "metadata": {
        "colab": {
          "base_uri": "https://localhost:8080/"
        },
        "id": "4nazkPvjQ97l",
        "outputId": "b6643e93-578c-4fea-911d-89afc8dc6b3c"
      },
      "outputs": [
        {
          "output_type": "stream",
          "name": "stdout",
          "text": [
            "Requirement already satisfied: requests in /usr/local/lib/python3.10/dist-packages (2.31.0)\n",
            "Requirement already satisfied: charset-normalizer<4,>=2 in /usr/local/lib/python3.10/dist-packages (from requests) (3.3.2)\n",
            "Requirement already satisfied: idna<4,>=2.5 in /usr/local/lib/python3.10/dist-packages (from requests) (3.7)\n",
            "Requirement already satisfied: urllib3<3,>=1.21.1 in /usr/local/lib/python3.10/dist-packages (from requests) (2.0.7)\n",
            "Requirement already satisfied: certifi>=2017.4.17 in /usr/local/lib/python3.10/dist-packages (from requests) (2024.2.2)\n"
          ]
        }
      ],
      "source": [
        "pip install requests"
      ]
    },
    {
      "cell_type": "code",
      "source": [
        "#importing Libraries\n",
        "import time\n",
        "import urllib.parse\n",
        "import hashlib\n",
        "import hmac\n",
        "import requests\n",
        "import json\n",
        "import base64"
      ],
      "metadata": {
        "id": "afUtPsJ2Rjl_"
      },
      "execution_count": 2,
      "outputs": []
    },
    {
      "cell_type": "code",
      "source": [
        "#function to define Kraken API signature\n",
        "def kraken_get_signature(urlpath, data, secret):\n",
        "\n",
        "  postdata = urllib.parse.urlencode(data)\n",
        "  encoded = (str(data['nonce']) + postdata).encode()\n",
        "  message = urlpath.encode() + hashlib.sha256(encoded).digest()\n",
        "  mac = hmac.new(base64.b64decode(secret), message, hashlib.sha512)\n",
        "  sigdigest = base64.b64encode(mac.digest())\n",
        "\n",
        "  return sigdigest.decode()"
      ],
      "metadata": {
        "id": "rwvjpiYFR-UR"
      },
      "execution_count": 11,
      "outputs": []
    },
    {
      "cell_type": "code",
      "source": [
        "#function to define request to Kraken API\n",
        "def kraken_request(uri_path, data, api_key, api_sec):\n",
        "    url = \"https://api.kraken.com\" + uri_path\n",
        "    headers = {\n",
        "        'API-Key': api_key,\n",
        "        'API-Sign': kraken_get_signature(uri_path, data, api_sec)\n",
        "    }\n",
        "    response = requests.post(url, headers=headers, data=data)\n",
        "    return response.json()"
      ],
      "metadata": {
        "id": "FRkD_gPlSaGn"
      },
      "execution_count": 12,
      "outputs": []
    },
    {
      "cell_type": "code",
      "source": [
        "#storing my API key and private key\n",
        "api_key = \"API KEY\"\n",
        "api_sec = \"Private Key\""
      ],
      "metadata": {
        "id": "G_uJwxbPTnbP"
      },
      "execution_count": 23,
      "outputs": []
    },
    {
      "cell_type": "code",
      "source": [
        "#creating funciton to get account balance from Kraken\n",
        "\n",
        "def get_balance():\n",
        "    data = {\n",
        "        \"nonce\": str(int(time.time() * 1000))\n",
        "    }\n",
        "    response = kraken_request('/0/private/Balance', data, api_key, api_sec)\n",
        "    print(\"Response from get_balance:\", response)  # Debugging line\n",
        "    if response['error']:\n",
        "        print(\"Error:\", response['error'])\n",
        "    return response['result'] if response['result'] else 0.0"
      ],
      "metadata": {
        "id": "Ie-gV5E0T8zi"
      },
      "execution_count": 24,
      "outputs": []
    },
    {
      "cell_type": "code",
      "source": [
        "get_balance()"
      ],
      "metadata": {
        "colab": {
          "base_uri": "https://localhost:8080/"
        },
        "id": "Vufbq93GURBT",
        "outputId": "6904f345-4f44-47b3-bb83-c47cc2fd355b"
      },
      "execution_count": 25,
      "outputs": [
        {
          "output_type": "stream",
          "name": "stdout",
          "text": [
            "Response from get_balance: {'error': [], 'result': {}}\n"
          ]
        },
        {
          "output_type": "execute_result",
          "data": {
            "text/plain": [
              "0.0"
            ]
          },
          "metadata": {},
          "execution_count": 25
        }
      ]
    },
    {
      "cell_type": "code",
      "source": [
        "#creating function to place order\n",
        "def place_order(pair, order_type, volume, price):\n",
        "  #pair : specifies trading pair for instance Bitcoin to Canadian dollar will be XBTCAD\n",
        "  #volume : number or volume of asset to be traded\n",
        "  #order_type : market order, limit order, stop order, take profit order or stop limit order\n",
        "  #price : price at which the order is to be executed\n",
        "  data = {\n",
        "        \"nonce\": str(int(time.time() * 1000)),\n",
        "        \"ordertype\": ordertype,\n",
        "        \"type\": type,\n",
        "        \"pair\": pair,\n",
        "        \"volume\": volume,\n",
        "        \"price\": price\n",
        "    }\n",
        "  response = kraken_request('/0/private/AddOrder', data, api_key, api_sec)\n",
        "  print(\"Response from place_order:\", response)  # Debugging line\n",
        "  if response['error']:\n",
        "    print(\"Error:\", response['error'])\n",
        "  return response['result']"
      ],
      "metadata": {
        "id": "8yYL9dQZV-LD"
      },
      "execution_count": 26,
      "outputs": []
    },
    {
      "cell_type": "code",
      "source": [
        "#creating function to get all th eopen orders of the user\n",
        "def get_open_orders():\n",
        "    data = {\n",
        "        \"nonce\": str(int(time.time() * 1000))\n",
        "    }\n",
        "    response = kraken_request('/0/private/OpenOrders', data, api_key, api_sec)\n",
        "    print(\"Response from get_open_orders:\", response)  # Debugging line\n",
        "    if response['error']:\n",
        "        print(\"Error:\", response['error'])\n",
        "    return response['result']"
      ],
      "metadata": {
        "id": "uIvwalsgY9OT"
      },
      "execution_count": 27,
      "outputs": []
    },
    {
      "cell_type": "code",
      "source": [
        "get_open_orders()"
      ],
      "metadata": {
        "colab": {
          "base_uri": "https://localhost:8080/"
        },
        "id": "AtS-1NHnaWhL",
        "outputId": "efed13f2-da6d-44fe-8677-fc154b37b4cb"
      },
      "execution_count": 28,
      "outputs": [
        {
          "output_type": "stream",
          "name": "stdout",
          "text": [
            "Response from get_open_orders: {'error': [], 'result': {'open': {}}}\n"
          ]
        },
        {
          "output_type": "execute_result",
          "data": {
            "text/plain": [
              "{'open': {}}"
            ]
          },
          "metadata": {},
          "execution_count": 28
        }
      ]
    }
  ]
}